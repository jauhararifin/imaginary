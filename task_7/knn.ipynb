{
 "cells": [
  {
   "cell_type": "code",
   "execution_count": 14,
   "metadata": {},
   "outputs": [],
   "source": [
    "import numpy as np"
   ]
  },
  {
   "cell_type": "code",
   "execution_count": 15,
   "metadata": {},
   "outputs": [],
   "source": [
    "nb_description = np.random.randint(5, size= 32)"
   ]
  },
  {
   "cell_type": "code",
   "execution_count": 16,
   "metadata": {},
   "outputs": [],
   "source": [
    "data_description = []\n",
    "\n",
    "nb_data = 100\n",
    "for i in range(nb_data):\n",
    "    data_description.append(np.random.randint(5, size= 32))"
   ]
  },
  {
   "cell_type": "code",
   "execution_count": 29,
   "metadata": {},
   "outputs": [],
   "source": [
    "distance_weight = [4, 2, 2, 2, 2, 2, 2, 1, 1, 1, 1, 1, 1, 1, 1, 1, 4, 2, 2, 2, 2, 2, 2, 1, 1, 1, 1, 1, 1, 1, 1, 1]\n",
    "\n",
    "distance = []\n",
    "\n",
    "for i in range(len(data_corners)):\n",
    "    c_dist = 0\n",
    "    for v1, v2, w in zip(nb_intersect, data_intersect[i], distance_weight):\n",
    "        c_dist += w * abs(v1 - v2)\n",
    "    distance.append(c_dist)\n",
    "    \n",
    "sort_result = sorted(zip(range(len(data_corners)), data_description, distance), key= lambda pair: pair[2])\n",
    "\n",
    "sorted_index = []\n",
    "sorted_description = []\n",
    "sorted_distance = []\n",
    "for v in sort_result:\n",
    "    sorted_index.append(v[0])\n",
    "    sorted_description.append(v[1])\n",
    "    sorted_distance.append(v[2])"
   ]
  },
  {
   "cell_type": "code",
   "execution_count": 32,
   "metadata": {},
   "outputs": [
    {
     "name": "stdout",
     "output_type": "stream",
     "text": [
      "[32, 81, 0, 38, 95, 85, 3, 39, 80, 14, 44, 11, 59, 65, 89, 4, 7, 12, 20, 31, 43, 48, 51, 94, 29, 47, 49, 53, 57, 13, 22, 91, 98, 1, 55, 64, 86, 5, 15, 18, 54, 79, 90, 28, 35, 58, 73, 75, 2, 17, 36, 76, 82, 92, 10, 19, 42, 52, 74, 93, 99, 56, 72, 97, 33, 45, 50, 62, 63, 83, 8, 46, 69, 84, 87, 24, 68, 88, 6, 9, 25, 77, 26, 60, 70, 40, 78, 96, 71, 23, 34, 37, 67, 16, 41, 66, 27, 61, 21, 30]\n"
     ]
    }
   ],
   "source": [
    "print(sorted_index)"
   ]
  }
 ],
 "metadata": {
  "kernelspec": {
   "display_name": "Python 3",
   "language": "python",
   "name": "python3"
  },
  "language_info": {
   "codemirror_mode": {
    "name": "ipython",
    "version": 3
   },
   "file_extension": ".py",
   "mimetype": "text/x-python",
   "name": "python",
   "nbconvert_exporter": "python",
   "pygments_lexer": "ipython3",
   "version": "3.5.2"
  }
 },
 "nbformat": 4,
 "nbformat_minor": 2
}
