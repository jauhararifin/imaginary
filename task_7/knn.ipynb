{
 "cells": [
  {
   "cell_type": "code",
   "execution_count": 1,
   "metadata": {},
   "outputs": [],
   "source": [
    "import numpy as np"
   ]
  },
  {
   "cell_type": "code",
   "execution_count": 2,
   "metadata": {},
   "outputs": [],
   "source": [
    "nb_description = np.random.randint(5, size= 32)"
   ]
  },
  {
   "cell_type": "code",
   "execution_count": 3,
   "metadata": {},
   "outputs": [],
   "source": [
    "data_description = []\n",
    "\n",
    "nb_data = 100\n",
    "for i in range(nb_data):\n",
    "    data_description.append(np.random.randint(5, size= 32))"
   ]
  },
  {
   "cell_type": "code",
   "execution_count": 4,
   "metadata": {},
   "outputs": [],
   "source": [
    "class Weighted_KNN:\n",
    "    \n",
    "    def __init__(self, weight):\n",
    "        self.distance_weight = weight\n",
    "        self.description = None\n",
    "        self.sorted_index = None\n",
    "        self.sorted_description = None\n",
    "        self.sorted_distance = None\n",
    "        \n",
    "    def fit(self, data):\n",
    "        self.description = data\n",
    "        \n",
    "    def predict(self, predict_data):\n",
    "        distance = []\n",
    "\n",
    "        for i in range(len(self.description)):\n",
    "            c_dist = 0\n",
    "            for v1, v2, w in zip(predict_data, self.description[i], self.distance_weight):\n",
    "                c_dist += w * abs(v1 - v2)\n",
    "            distance.append(c_dist)\n",
    "\n",
    "        sort_result = sorted(zip(range(len(self.description)), self.description, distance), key= lambda pair: pair[2])\n",
    "\n",
    "        self.sorted_index = []\n",
    "        self.sorted_description = []\n",
    "        self.sorted_distance = []\n",
    "        for v in sort_result:\n",
    "            self.sorted_index.append(v[0])\n",
    "            self.sorted_description.append(v[1])\n",
    "            self.sorted_distance.append(v[2])\n",
    "        \n",
    "    def get_sorted_index(self):\n",
    "        return self.sorted_index\n",
    "    \n",
    "    def get_sorted_data(self):\n",
    "        return self.sorted_description\n",
    "    \n",
    "    def get_sorted_distance(self):\n",
    "        return self.sorted_distance\n",
    "    "
   ]
  },
  {
   "cell_type": "code",
   "execution_count": 5,
   "metadata": {},
   "outputs": [
    {
     "name": "stdout",
     "output_type": "stream",
     "text": [
      "[47, 37, 13, 28, 60, 77, 78, 74, 33, 54, 95, 70, 80, 27, 44, 75, 97, 43, 4, 45, 17, 24, 22, 65, 81, 56, 83, 90, 99, 2, 14, 38, 3, 55, 82, 8, 26, 29, 64, 11, 20, 36, 48, 58, 61, 50, 66, 72, 93, 10, 15, 39, 51, 92, 0, 9, 16, 86, 91, 94, 12, 31, 59, 18, 34, 46, 69, 42, 62, 84, 98, 32, 88, 19, 49, 30, 5, 41, 7, 21, 53, 67, 68, 85, 87, 6, 73, 79, 40, 1, 96, 57, 76, 25, 63, 89, 23, 35, 71, 52]\n"
     ]
    }
   ],
   "source": [
    "knn = Weighted_KNN([4, 2, 2, 2, 2, 2, 2, 1, 1, 1, 1, 1, 1, 1, 1, 1, 4, 2, 2, 2, 2, 2, 2, 1, 1, 1, 1, 1, 1, 1, 1, 1])\n",
    "knn.fit(data_description)\n",
    "knn.predict(nb_description)\n",
    "print(knn.get_sorted_index())"
   ]
  }
 ],
 "metadata": {
  "kernelspec": {
   "display_name": "Python 3",
   "language": "python",
   "name": "python3"
  },
  "language_info": {
   "codemirror_mode": {
    "name": "ipython",
    "version": 3
   },
   "file_extension": ".py",
   "mimetype": "text/x-python",
   "name": "python",
   "nbconvert_exporter": "python",
   "pygments_lexer": "ipython3",
   "version": "3.5.2"
  }
 },
 "nbformat": 4,
 "nbformat_minor": 2
}
