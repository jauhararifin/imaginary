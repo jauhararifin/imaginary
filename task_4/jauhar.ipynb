{
 "cells": [
  {
   "cell_type": "code",
   "execution_count": 1,
   "metadata": {},
   "outputs": [],
   "source": [
    "import cv2\n",
    "import matplotlib.pyplot as plt\n",
    "import numpy as np\n",
    "from scipy import stats"
   ]
  },
  {
   "cell_type": "code",
   "execution_count": 2,
   "metadata": {},
   "outputs": [],
   "source": [
    "image = cv2.imread('test_2.jpg')\n",
    "image_color = cv2.cvtColor(image, cv2.COLOR_BGR2RGB)\n",
    "image_grayscale = cv2.cvtColor(image, cv2.COLOR_RGB2GRAY)"
   ]
  },
  {
   "cell_type": "code",
   "execution_count": 3,
   "metadata": {},
   "outputs": [
    {
     "data": {
      "text/plain": [
       "<matplotlib.image.AxesImage at 0x7fb09d6f76a0>"
      ]
     },
     "execution_count": 3,
     "metadata": {},
     "output_type": "execute_result"
    },
    {
     "data": {
      "image/png": "[encoded data removed]",
      "text/plain": [
       "<Figure size 432x288 with 1 Axes>"
      ]
     },
     "metadata": {
      "needs_background": "light"
     },
     "output_type": "display_data"
    }
   ],
   "source": [
    "plt.imshow(image_grayscale, cmap='gray')"
   ]
  },
  {
   "cell_type": "code",
   "execution_count": 6,
   "metadata": {},
   "outputs": [],
   "source": [
    "def floodfill(mat, y, x, c1, c2):\n",
    "    if y > len(mat) or x > len(mat[y]):\n",
    "        return\n",
    "    if mat[y][x] != c1:\n",
    "        return\n",
    "    mat[y][x] = c2\n",
    "    floodfill(mat, y + 1, x, c1, c2)\n",
    "    floodfill(mat, y - 1, x, c1, c2)\n",
    "    floodfill(mat, y, x + 1, c1, c2)\n",
    "    floodfill(mat, y, x - 2, c1, c2)\n",
    "    \n",
    "def check_border(mat, y, x):\n",
    "    height, width = mat.shape\n",
    "    if mat[y][x] == 0:\n",
    "        return False\n",
    "    if y == 0 or x == 0 or y == height - 1 or x == width - 1:\n",
    "        return True\n",
    "    if 0 in [mat[y+1][x], mat[y-1][x], mat[y][x+1], mat[y][x-1]]:\n",
    "        return True\n",
    "    return False\n",
    "\n",
    "def generate_chain_code(mat, y, x):\n",
    "    if mat[y][x] < 0:\n",
    "        return []\n",
    "    cluster_id = mat[y][x]\n",
    "    mat[y][x] *= -1\n",
    "    dx = [0, 1, 1, 1, 0, -1, -1, -1]\n",
    "    dy = [-1, -1, 0, 1, 1, 1, 0, -1]\n",
    "    for d, temp in enumerate(zip(dx, dy)):\n",
    "        ix, iy = temp\n",
    "        nx, ny = x + ix, y + iy\n",
    "        if nx > 0 and nx < len(mat[ny]) and ny > 0 and ny < len(mat) and mat[ny][nx] == cluster_id and check_border(mat, ny, nx):\n",
    "            return [d] + generate_chain_code(mat, ny, nx)\n",
    "    return []\n",
    "\n",
    "def stretch_chain_code(chain_code, len_dest):\n",
    "    ret = []\n",
    "    if len(chain_code) < len_dest:\n",
    "        scale =  len_dest / len(chain_code)\n",
    "        for i in range(len_dest):\n",
    "            ret += [chain_code[min(round(i/scale),(len(chain_code) - 1))]]\n",
    "    else:\n",
    "        scale = len(chain_code) / len_dest\n",
    "        for i in range(len_dest):\n",
    "            i_from = round(i*scale)\n",
    "            i_to = min(round(i_from + scale), (len(chain_code)-1))\n",
    "            ret += [max(set(chain_code[i_from:i_to]), key=chain_code[i_from:i_to].count)]\n",
    "    return ret\n",
    "\n",
    "def generate_all_chain_code(mat):\n",
    "    height, width = mat.shape\n",
    "\n",
    "    cluster = 0\n",
    "    for y in range(height):\n",
    "        for x in range(width):\n",
    "            if mat[y][x] == -1:\n",
    "                cluster += 1\n",
    "                floodfill(mat, y, x, -1, cluster)\n",
    "                \n",
    "    chain_codes = []\n",
    "    for y in range(height):\n",
    "        for x in range(width):\n",
    "            if mat[y][x] > 0 and abs(mat[y][x]) not in chain_codes and check_border(mat, y, x):\n",
    "                cluster_id = mat[y][x]\n",
    "                chain_code = generate_chain_code(mat, y, x)\n",
    "                chain_codes.append(chain_code)\n",
    "\n",
    "    return chain_codes\n",
    "\n",
    "def get_all_chain_codes_in_image(image):\n",
    "    threshold = 110\n",
    "    image_mat = np.vectorize(lambda x: -1 if x < threshold else 0)(image)\n",
    "    return generate_all_chain_code(image_mat)"
   ]
  },
  {
   "cell_type": "code",
   "execution_count": 7,
   "metadata": {
    "scrolled": false
   },
   "outputs": [
    {
     "ename": "ValueError",
     "evalue": "The truth value of an array with more than one element is ambiguous. Use a.any() or a.all()",
     "output_type": "error",
     "traceback": [
      "\u001b[0;31m---------------------------------------------------------------------------\u001b[0m",
      "\u001b[0;31mValueError\u001b[0m                                Traceback (most recent call last)",
      "\u001b[0;32m<ipython-input-7-bdda1b40da89>\u001b[0m in \u001b[0;36m<module>\u001b[0;34m()\u001b[0m\n\u001b[0;32m----> 1\u001b[0;31m \u001b[0mget_all_chain_codes_in_image\u001b[0m\u001b[0;34m(\u001b[0m\u001b[0mimage_grayscale\u001b[0m\u001b[0;34m)\u001b[0m\u001b[0;34m\u001b[0m\u001b[0m\n\u001b[0m",
      "\u001b[0;32m<ipython-input-6-9316c7aa5fa8>\u001b[0m in \u001b[0;36mget_all_chain_codes_in_image\u001b[0;34m(image)\u001b[0m\n\u001b[1;32m     71\u001b[0m     \u001b[0mthreshold\u001b[0m \u001b[0;34m=\u001b[0m \u001b[0;36m110\u001b[0m\u001b[0;34m\u001b[0m\u001b[0m\n\u001b[1;32m     72\u001b[0m     \u001b[0mimage_mat\u001b[0m \u001b[0;34m=\u001b[0m \u001b[0mnp\u001b[0m\u001b[0;34m.\u001b[0m\u001b[0mvectorize\u001b[0m\u001b[0;34m(\u001b[0m\u001b[0;32mlambda\u001b[0m \u001b[0mx\u001b[0m\u001b[0;34m:\u001b[0m \u001b[0;34m-\u001b[0m\u001b[0;36m1\u001b[0m \u001b[0;32mif\u001b[0m \u001b[0mx\u001b[0m \u001b[0;34m<\u001b[0m \u001b[0mthreshold\u001b[0m \u001b[0;32melse\u001b[0m \u001b[0;36m0\u001b[0m\u001b[0;34m)\u001b[0m\u001b[0;34m(\u001b[0m\u001b[0mimage\u001b[0m\u001b[0;34m)\u001b[0m\u001b[0;34m\u001b[0m\u001b[0m\n\u001b[0;32m---> 73\u001b[0;31m     \u001b[0;32mreturn\u001b[0m \u001b[0mgenerate_all_chain_code\u001b[0m\u001b[0;34m(\u001b[0m\u001b[0mimage_mat\u001b[0m\u001b[0;34m)\u001b[0m\u001b[0;34m\u001b[0m\u001b[0m\n\u001b[0m",
      "\u001b[0;32m<ipython-input-6-9316c7aa5fa8>\u001b[0m in \u001b[0;36mgenerate_all_chain_code\u001b[0;34m(mat)\u001b[0m\n\u001b[1;32m     61\u001b[0m     \u001b[0;32mfor\u001b[0m \u001b[0my\u001b[0m \u001b[0;32min\u001b[0m \u001b[0mrange\u001b[0m\u001b[0;34m(\u001b[0m\u001b[0mheight\u001b[0m\u001b[0;34m)\u001b[0m\u001b[0;34m:\u001b[0m\u001b[0;34m\u001b[0m\u001b[0m\n\u001b[1;32m     62\u001b[0m         \u001b[0;32mfor\u001b[0m \u001b[0mx\u001b[0m \u001b[0;32min\u001b[0m \u001b[0mrange\u001b[0m\u001b[0;34m(\u001b[0m\u001b[0mwidth\u001b[0m\u001b[0;34m)\u001b[0m\u001b[0;34m:\u001b[0m\u001b[0;34m\u001b[0m\u001b[0m\n\u001b[0;32m---> 63\u001b[0;31m             \u001b[0;32mif\u001b[0m \u001b[0mmat\u001b[0m\u001b[0;34m[\u001b[0m\u001b[0my\u001b[0m\u001b[0;34m]\u001b[0m\u001b[0;34m[\u001b[0m\u001b[0mx\u001b[0m\u001b[0;34m]\u001b[0m \u001b[0;34m>\u001b[0m \u001b[0;36m0\u001b[0m \u001b[0;32mand\u001b[0m \u001b[0mabs\u001b[0m\u001b[0;34m(\u001b[0m\u001b[0mmat\u001b[0m\u001b[0;34m[\u001b[0m\u001b[0my\u001b[0m\u001b[0;34m]\u001b[0m\u001b[0;34m[\u001b[0m\u001b[0mx\u001b[0m\u001b[0;34m]\u001b[0m\u001b[0;34m)\u001b[0m \u001b[0;32mnot\u001b[0m \u001b[0;32min\u001b[0m \u001b[0mchain_codes\u001b[0m \u001b[0;32mand\u001b[0m \u001b[0mcheck_border\u001b[0m\u001b[0;34m(\u001b[0m\u001b[0mmat\u001b[0m\u001b[0;34m,\u001b[0m \u001b[0my\u001b[0m\u001b[0;34m,\u001b[0m \u001b[0mx\u001b[0m\u001b[0;34m)\u001b[0m\u001b[0;34m:\u001b[0m\u001b[0;34m\u001b[0m\u001b[0m\n\u001b[0m\u001b[1;32m     64\u001b[0m                 \u001b[0mcluster_id\u001b[0m \u001b[0;34m=\u001b[0m \u001b[0mmat\u001b[0m\u001b[0;34m[\u001b[0m\u001b[0my\u001b[0m\u001b[0;34m]\u001b[0m\u001b[0;34m[\u001b[0m\u001b[0mx\u001b[0m\u001b[0;34m]\u001b[0m\u001b[0;34m\u001b[0m\u001b[0m\n\u001b[1;32m     65\u001b[0m                 \u001b[0mchain_code\u001b[0m \u001b[0;34m=\u001b[0m \u001b[0mgenerate_chain_code\u001b[0m\u001b[0;34m(\u001b[0m\u001b[0mmat\u001b[0m\u001b[0;34m,\u001b[0m \u001b[0my\u001b[0m\u001b[0;34m,\u001b[0m \u001b[0mx\u001b[0m\u001b[0;34m)\u001b[0m\u001b[0;34m\u001b[0m\u001b[0m\n",
      "\u001b[0;31mValueError\u001b[0m: The truth value of an array with more than one element is ambiguous. Use a.any() or a.all()"
     ]
    }
   ],
   "source": [
    "get_all_chain_codes_in_image(image_grayscale)"
   ]
  }
 ],
 "metadata": {
  "kernelspec": {
   "display_name": "Python 3",
   "language": "python",
   "name": "python3"
  },
  "language_info": {
   "codemirror_mode": {
    "name": "ipython",
    "version": 3
   },
   "file_extension": ".py",
   "mimetype": "text/x-python",
   "name": "python",
   "nbconvert_exporter": "python",
   "pygments_lexer": "ipython3",
   "version": "3.6.5"
  }
 },
 "nbformat": 4,
 "nbformat_minor": 2
}
