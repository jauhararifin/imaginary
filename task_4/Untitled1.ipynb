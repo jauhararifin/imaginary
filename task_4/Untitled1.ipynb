{
 "cells": [
  {
   "cell_type": "code",
   "execution_count": 25,
   "metadata": {},
   "outputs": [],
   "source": [
    "import pandas\n",
    "import scipy "
   ]
  },
  {
   "cell_type": "code",
   "execution_count": 37,
   "metadata": {},
   "outputs": [
    {
     "data": {
      "text/plain": [
       "(28, 28)"
      ]
     },
     "execution_count": 37,
     "metadata": {},
     "output_type": "execute_result"
    }
   ],
   "source": [
    "data = pandas.read_csv(\"train.csv\", nrows= 100)\n",
    "image = data.values[0][1:].reshape((28,28))\n",
    "image.shape"
   ]
  },
  {
   "cell_type": "code",
   "execution_count": 38,
   "metadata": {},
   "outputs": [
    {
     "name": "stdout",
     "output_type": "stream",
     "text": [
      "{1: 16, 0: 9, 4: 11, 7: 7, 3: 11, 5: 6, 8: 6, 9: 14, 2: 11, 6: 9}\n"
     ]
    }
   ],
   "source": [
    "label = {}\n",
    "for i in range(len(data.values)):\n",
    "    c_label = data.values[i][0]\n",
    "    if c_label in label.keys():\n",
    "        label[c_label] += 1\n",
    "    else:\n",
    "        label[c_label] = 1\n",
    "\n",
    "print(label)"
   ]
  }
 ],
 "metadata": {
  "kernelspec": {
   "display_name": "Python 3",
   "language": "python",
   "name": "python3"
  },
  "language_info": {
   "codemirror_mode": {
    "name": "ipython",
    "version": 3
   },
   "file_extension": ".py",
   "mimetype": "text/x-python",
   "name": "python",
   "nbconvert_exporter": "python",
   "pygments_lexer": "ipython3",
   "version": "3.6.5"
  }
 },
 "nbformat": 4,
 "nbformat_minor": 2
}
